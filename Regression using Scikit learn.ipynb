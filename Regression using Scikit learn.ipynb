{
 "cells": [
  {
   "cell_type": "code",
   "execution_count": 1,
   "id": "8f5b8276",
   "metadata": {},
   "outputs": [],
   "source": [
    "import numpy as np\n",
    "from sklearn.linear_model import LinearRegression\n",
    "import matplotlib.pyplot as plt\n",
    "import pandas as pd\n",
    "from sklearn.model_selection import train_test_split\n",
    "from sklearn.metrics import r2_score,mean_squared_error"
   ]
  },
  {
   "cell_type": "code",
   "execution_count": 2,
   "id": "d085ce1e",
   "metadata": {},
   "outputs": [],
   "source": [
    "train_data = pd.read_csv('Train.csv')"
   ]
  },
  {
   "cell_type": "code",
   "execution_count": 3,
   "id": "ccb3ce2d",
   "metadata": {},
   "outputs": [
    {
     "data": {
      "text/html": [
       "<div>\n",
       "<style scoped>\n",
       "    .dataframe tbody tr th:only-of-type {\n",
       "        vertical-align: middle;\n",
       "    }\n",
       "\n",
       "    .dataframe tbody tr th {\n",
       "        vertical-align: top;\n",
       "    }\n",
       "\n",
       "    .dataframe thead th {\n",
       "        text-align: right;\n",
       "    }\n",
       "</style>\n",
       "<table border=\"1\" class=\"dataframe\">\n",
       "  <thead>\n",
       "    <tr style=\"text-align: right;\">\n",
       "      <th></th>\n",
       "      <th>x</th>\n",
       "      <th>y</th>\n",
       "    </tr>\n",
       "  </thead>\n",
       "  <tbody>\n",
       "    <tr>\n",
       "      <th>0</th>\n",
       "      <td>24</td>\n",
       "      <td>21.549452</td>\n",
       "    </tr>\n",
       "    <tr>\n",
       "      <th>1</th>\n",
       "      <td>50</td>\n",
       "      <td>47.464463</td>\n",
       "    </tr>\n",
       "    <tr>\n",
       "      <th>2</th>\n",
       "      <td>15</td>\n",
       "      <td>17.218656</td>\n",
       "    </tr>\n",
       "    <tr>\n",
       "      <th>3</th>\n",
       "      <td>38</td>\n",
       "      <td>36.586398</td>\n",
       "    </tr>\n",
       "    <tr>\n",
       "      <th>4</th>\n",
       "      <td>87</td>\n",
       "      <td>87.288984</td>\n",
       "    </tr>\n",
       "    <tr>\n",
       "      <th>...</th>\n",
       "      <td>...</td>\n",
       "      <td>...</td>\n",
       "    </tr>\n",
       "    <tr>\n",
       "      <th>694</th>\n",
       "      <td>58</td>\n",
       "      <td>58.595006</td>\n",
       "    </tr>\n",
       "    <tr>\n",
       "      <th>695</th>\n",
       "      <td>93</td>\n",
       "      <td>94.625094</td>\n",
       "    </tr>\n",
       "    <tr>\n",
       "      <th>696</th>\n",
       "      <td>82</td>\n",
       "      <td>88.603770</td>\n",
       "    </tr>\n",
       "    <tr>\n",
       "      <th>697</th>\n",
       "      <td>66</td>\n",
       "      <td>63.648685</td>\n",
       "    </tr>\n",
       "    <tr>\n",
       "      <th>698</th>\n",
       "      <td>97</td>\n",
       "      <td>94.975266</td>\n",
       "    </tr>\n",
       "  </tbody>\n",
       "</table>\n",
       "<p>699 rows × 2 columns</p>\n",
       "</div>"
      ],
      "text/plain": [
       "      x          y\n",
       "0    24  21.549452\n",
       "1    50  47.464463\n",
       "2    15  17.218656\n",
       "3    38  36.586398\n",
       "4    87  87.288984\n",
       "..   ..        ...\n",
       "694  58  58.595006\n",
       "695  93  94.625094\n",
       "696  82  88.603770\n",
       "697  66  63.648685\n",
       "698  97  94.975266\n",
       "\n",
       "[699 rows x 2 columns]"
      ]
     },
     "execution_count": 3,
     "metadata": {},
     "output_type": "execute_result"
    }
   ],
   "source": [
    "train_data"
   ]
  },
  {
   "cell_type": "code",
   "execution_count": 4,
   "id": "6a5ecb4a",
   "metadata": {},
   "outputs": [],
   "source": [
    "X = np.array(train_data['x']).reshape(-1, 1)\n",
    "y = np.array(train_data['y']).reshape(-1, 1)"
   ]
  },
  {
   "cell_type": "code",
   "execution_count": 5,
   "id": "dbd5120c",
   "metadata": {},
   "outputs": [],
   "source": [
    "X_train, X_test, y_train, y_test = train_test_split(X, y, test_size=0.3, random_state=1)"
   ]
  },
  {
   "cell_type": "code",
   "execution_count": 6,
   "id": "7c468067",
   "metadata": {},
   "outputs": [],
   "source": [
    "model = LinearRegression().fit(X_train, y_train) "
   ]
  },
  {
   "cell_type": "code",
   "execution_count": 7,
   "id": "10c1ae66",
   "metadata": {},
   "outputs": [
    {
     "data": {
      "text/plain": [
       "array([[0.99629152]])"
      ]
     },
     "execution_count": 7,
     "metadata": {},
     "output_type": "execute_result"
    }
   ],
   "source": [
    "model.coef_"
   ]
  },
  {
   "cell_type": "code",
   "execution_count": 8,
   "id": "4ea75778",
   "metadata": {},
   "outputs": [
    {
     "data": {
      "text/plain": [
       "array([-0.06722874])"
      ]
     },
     "execution_count": 8,
     "metadata": {},
     "output_type": "execute_result"
    }
   ],
   "source": [
    "model.intercept_"
   ]
  },
  {
   "cell_type": "code",
   "execution_count": 9,
   "id": "a1559ca3",
   "metadata": {
    "scrolled": true
   },
   "outputs": [
    {
     "data": {
      "text/plain": [
       "array([[ 9.75693400e+01],\n",
       "       [ 7.76435096e+01],\n",
       "       [ 8.66101333e+01],\n",
       "       [ 6.26991369e+01],\n",
       "       [ 7.36583436e+01],\n",
       "       [ 4.67584726e+01],\n",
       "       [ 2.58363507e+01],\n",
       "       [ 6.07065538e+01],\n",
       "       [ 6.66843029e+01],\n",
       "       [ 1.98586016e+01],\n",
       "       [ 9.95619230e+01],\n",
       "       [ 1.28845610e+01],\n",
       "       [ 9.85656315e+01],\n",
       "       [ 5.37325132e+01],\n",
       "       [ 8.86027163e+01],\n",
       "       [ 4.97473471e+01],\n",
       "       [ 7.06694690e+01],\n",
       "       [ 4.47658896e+01],\n",
       "       [ 2.38437677e+01],\n",
       "       [ 9.25878824e+01],\n",
       "       [ 7.26620521e+01],\n",
       "       [ 4.97473471e+01],\n",
       "       [ 8.16286757e+01],\n",
       "       [ 9.25878824e+01],\n",
       "       [ 3.18140998e+01],\n",
       "       [ 9.89568644e+00],\n",
       "       [ 9.89568644e+00],\n",
       "       [ 1.38808525e+01],\n",
       "       [ 3.08178083e+01],\n",
       "       [ 5.07436387e+01],\n",
       "       [ 2.48400592e+01],\n",
       "       [ 1.68697271e+01],\n",
       "       [ 3.48029744e+01],\n",
       "       [ 1.58734355e+01],\n",
       "       [ 7.46546351e+01],\n",
       "       [ 3.08178083e+01],\n",
       "       [ 8.56138418e+01],\n",
       "       [ 6.17028454e+01],\n",
       "       [ 6.76805945e+01],\n",
       "       [ 3.08178083e+01],\n",
       "       [ 4.17770150e+01],\n",
       "       [ 6.76805945e+01],\n",
       "       [ 6.90681189e+00],\n",
       "       [ 4.27733065e+01],\n",
       "       [ 9.45804654e+01],\n",
       "       [ 5.57250963e+01],\n",
       "       [ 2.38437677e+01],\n",
       "       [ 2.58363507e+01],\n",
       "       [ 5.27362217e+01],\n",
       "       [ 6.96731775e+01],\n",
       "       [ 2.98215168e+01],\n",
       "       [ 9.05952994e+01],\n",
       "       [ 5.77176793e+01],\n",
       "       [ 1.58734355e+01],\n",
       "       [ 7.26620521e+01],\n",
       "       [ 4.77547641e+01],\n",
       "       [ 3.77918489e+01],\n",
       "       [ 5.07436387e+01],\n",
       "       [ 3.18140998e+01],\n",
       "       [ 6.86768860e+01],\n",
       "       [ 2.92164582e+00],\n",
       "       [ 6.90681189e+00],\n",
       "       [ 9.25878824e+01],\n",
       "       [ 1.58734355e+01],\n",
       "       [ 4.97473471e+01],\n",
       "       [ 2.68326422e+01],\n",
       "       [ 7.46546351e+01],\n",
       "       [-6.72287362e-02],\n",
       "       [ 2.58363507e+01],\n",
       "       [ 4.57621811e+01],\n",
       "       [ 8.86027163e+01],\n",
       "       [ 7.06694690e+01],\n",
       "       [ 2.38437677e+01],\n",
       "       [ 1.88623101e+01],\n",
       "       [ 1.28845610e+01],\n",
       "       [ 3.18140998e+01],\n",
       "       [ 6.36954284e+01],\n",
       "       [ 6.26991369e+01],\n",
       "       [ 2.38437677e+01],\n",
       "       [ 5.17399302e+01],\n",
       "       [ 2.28474762e+01],\n",
       "       [ 7.90310340e+00],\n",
       "       [ 2.48400592e+01],\n",
       "       [ 2.68326422e+01],\n",
       "       [ 9.75693400e+01],\n",
       "       [ 2.92164582e+00],\n",
       "       [ 4.37695980e+01],\n",
       "       [ 8.26249672e+01],\n",
       "       [ 5.17399302e+01],\n",
       "       [ 3.67955574e+01],\n",
       "       [ 2.48400592e+01],\n",
       "       [ 7.26620521e+01],\n",
       "       [ 3.87881405e+01],\n",
       "       [ 4.97473471e+01],\n",
       "       [ 2.48400592e+01],\n",
       "       [ 6.96731775e+01],\n",
       "       [ 3.08178083e+01],\n",
       "       [ 4.17770150e+01],\n",
       "       [ 5.37325132e+01],\n",
       "       [ 7.56509266e+01],\n",
       "       [ 2.58363507e+01],\n",
       "       [ 3.87881405e+01],\n",
       "       [ 8.46175503e+01],\n",
       "       [ 7.06694690e+01],\n",
       "       [ 7.36583436e+01],\n",
       "       [ 7.76435096e+01],\n",
       "       [ 4.91422885e+00],\n",
       "       [ 4.77547641e+01],\n",
       "       [ 7.86398012e+01],\n",
       "       [ 7.36583436e+01],\n",
       "       [ 8.56138418e+01],\n",
       "       [ 8.89939492e+00],\n",
       "       [ 5.77176793e+01],\n",
       "       [ 3.87881405e+01],\n",
       "       [ 1.98586016e+01],\n",
       "       [ 4.57621811e+01],\n",
       "       [ 4.17770150e+01],\n",
       "       [ 8.89939492e+00],\n",
       "       [ 6.90681189e+00],\n",
       "       [ 6.96731775e+01],\n",
       "       [ 2.58363507e+01],\n",
       "       [ 9.65730485e+01],\n",
       "       [ 4.77547641e+01],\n",
       "       [ 1.08919780e+01],\n",
       "       [ 3.08178083e+01],\n",
       "       [ 8.86027163e+01],\n",
       "       [ 9.35841739e+01],\n",
       "       [ 1.18882695e+01],\n",
       "       [ 9.25878824e+01],\n",
       "       [ 7.90310340e+00],\n",
       "       [ 5.97102623e+01],\n",
       "       [ 2.48400592e+01],\n",
       "       [ 2.08548931e+01],\n",
       "       [ 8.06323842e+01],\n",
       "       [ 8.86027163e+01],\n",
       "       [ 7.06694690e+01],\n",
       "       [ 6.96731775e+01],\n",
       "       [ 1.08919780e+01],\n",
       "       [ 6.66843029e+01],\n",
       "       [ 7.46546351e+01],\n",
       "       [ 4.57621811e+01],\n",
       "       [ 2.78289338e+01],\n",
       "       [ 7.26620521e+01],\n",
       "       [ 4.87510556e+01],\n",
       "       [ 2.28474762e+01],\n",
       "       [ 8.95990079e+01],\n",
       "       [ 1.88623101e+01],\n",
       "       [ 9.35841739e+01],\n",
       "       [ 8.06323842e+01],\n",
       "       [ 3.67955574e+01],\n",
       "       [ 1.58734355e+01],\n",
       "       [ 7.56509266e+01],\n",
       "       [ 7.56509266e+01],\n",
       "       [ 7.90310340e+00],\n",
       "       [ 5.37325132e+01],\n",
       "       [ 6.07065538e+01],\n",
       "       [-6.72287362e-02],\n",
       "       [ 7.90310340e+00],\n",
       "       [ 5.87139708e+01],\n",
       "       [ 7.86398012e+01],\n",
       "       [ 3.87881405e+01],\n",
       "       [ 3.28103913e+01],\n",
       "       [ 2.48400592e+01],\n",
       "       [ 4.91422885e+00],\n",
       "       [ 1.78660186e+01],\n",
       "       [ 8.46175503e+01],\n",
       "       [ 9.95619230e+01],\n",
       "       [ 8.06323842e+01],\n",
       "       [ 8.06323842e+01],\n",
       "       [ 3.67955574e+01],\n",
       "       [ 5.77176793e+01],\n",
       "       [ 6.17028454e+01],\n",
       "       [ 7.16657605e+01],\n",
       "       [ 5.47288047e+01],\n",
       "       [ 6.17028454e+01],\n",
       "       [ 8.76064248e+01],\n",
       "       [ 8.06323842e+01],\n",
       "       [ 7.56509266e+01],\n",
       "       [ 7.56509266e+01],\n",
       "       [ 2.08548931e+01],\n",
       "       [ 9.85656315e+01],\n",
       "       [ 9.45804654e+01],\n",
       "       [ 9.85656315e+01],\n",
       "       [ 9.45804654e+01],\n",
       "       [ 2.38437677e+01],\n",
       "       [ 7.66472181e+01],\n",
       "       [ 3.77918489e+01],\n",
       "       [ 3.67955574e+01],\n",
       "       [ 9.75693400e+01],\n",
       "       [ 9.29062781e-01],\n",
       "       [ 4.97473471e+01],\n",
       "       [ 5.27362217e+01],\n",
       "       [ 2.38437677e+01],\n",
       "       [ 8.76064248e+01],\n",
       "       [ 4.77547641e+01],\n",
       "       [ 4.17770150e+01],\n",
       "       [ 4.91422885e+00],\n",
       "       [ 3.87881405e+01],\n",
       "       [ 4.77547641e+01],\n",
       "       [ 1.38808525e+01],\n",
       "       [ 3.48029744e+01],\n",
       "       [ 6.36954284e+01],\n",
       "       [ 1.58734355e+01],\n",
       "       [ 2.18511847e+01],\n",
       "       [ 5.91052037e+00],\n",
       "       [ 1.68697271e+01],\n",
       "       [ 7.46546351e+01],\n",
       "       [ 4.37695980e+01],\n",
       "       [ 4.57621811e+01],\n",
       "       [ 9.45804654e+01]])"
      ]
     },
     "execution_count": 9,
     "metadata": {},
     "output_type": "execute_result"
    }
   ],
   "source": [
    "y_pred = model.predict(X_test)\n",
    "y_pred"
   ]
  },
  {
   "cell_type": "code",
   "execution_count": 10,
   "id": "4d4607b7",
   "metadata": {},
   "outputs": [
    {
     "data": {
      "text/plain": [
       "8.480594038357317"
      ]
     },
     "execution_count": 10,
     "metadata": {},
     "output_type": "execute_result"
    }
   ],
   "source": [
    "mse = mean_squared_error(y_test,y_pred)\n",
    "mse"
   ]
  },
  {
   "cell_type": "code",
   "execution_count": 11,
   "id": "c4af7bca",
   "metadata": {},
   "outputs": [
    {
     "data": {
      "text/plain": [
       "0.9899108978335965"
      ]
     },
     "execution_count": 11,
     "metadata": {},
     "output_type": "execute_result"
    }
   ],
   "source": [
    "rsq = r2_score(y_test,y_pred)\n",
    "rsq"
   ]
  },
  {
   "cell_type": "code",
   "execution_count": 13,
   "id": "5d210727",
   "metadata": {},
   "outputs": [
    {
     "data": {
      "image/png": "[encoded data removed]",
      "text/plain": [
       "<Figure size 432x288 with 1 Axes>"
      ]
     },
     "metadata": {
      "needs_background": "light"
     },
     "output_type": "display_data"
    }
   ],
   "source": [
    "plt.scatter(X,y)\n",
    "plt.plot(X_test, y_pred, color='red');"
   ]
  },
  {
   "cell_type": "code",
   "execution_count": null,
   "id": "cb03ea2f",
   "metadata": {},
   "outputs": [],
   "source": []
  }
 ],
 "metadata": {
  "kernelspec": {
   "display_name": "Python 3",
   "language": "python",
   "name": "python3"
  },
  "language_info": {
   "codemirror_mode": {
    "name": "ipython",
    "version": 3
   },
   "file_extension": ".py",
   "mimetype": "text/x-python",
   "name": "python",
   "nbconvert_exporter": "python",
   "pygments_lexer": "ipython3",
   "version": "3.8.8"
  }
 },
 "nbformat": 4,
 "nbformat_minor": 5
}
